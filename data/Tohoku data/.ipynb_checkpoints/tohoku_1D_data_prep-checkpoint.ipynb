{
 "cells": [
  {
   "cell_type": "code",
   "execution_count": 54,
   "id": "187c241e",
   "metadata": {},
   "outputs": [
    {
     "name": "stdout",
     "output_type": "stream",
     "text": [
      "C:\\Users\\User\\Documents\\repos\\QD_LDS_readout\\data\\Tohoku data\n",
      "(600000,) (600000,)\n"
     ]
    },
    {
     "data": {
      "image/png": "[encoded data removed]",
      "text/plain": [
       "<Figure size 500x400 with 1 Axes>"
      ]
     },
     "metadata": {},
     "output_type": "display_data"
    }
   ],
   "source": [
    "import expdata as ex\n",
    "import numpy as np\n",
    "import matplotlib.pyplot as plt\n",
    "import os\n",
    "\n",
    "#directory\n",
    "\n",
    "path = r'C:\\Users\\User\\Documents\\repos\\QD_LDS_readout\\data\\Tohoku data'\n",
    "%cd $path\n",
    "\n",
    "time_resolution = 8*1000#ns\n",
    "def boxcar(t, signal, width = int(time_resolution/8)):\n",
    "    print (t.shape, signal.shape)\n",
    "    signal_ave = signal.reshape(-1, width).mean(axis = 1)\n",
    "    t_ave = t.reshape(-1, width).mean(axis = 1)\n",
    "    return t_ave, signal_ave\n",
    "import h5py\n",
    "\n",
    "\n",
    "d  = ex.load_data(201125150755)#200409155046, 201125150755\n",
    "i = 1\n",
    "n=100\n",
    "\n",
    "\"\"\"\n",
    "time, vrf = boxcar(d['time'].values, d['Vrf'].values[i],n)\n",
    "\n",
    "\n",
    "#Draw graph with cutted plot\n",
    "S_1, S_m = 36, 3600\n",
    "s = S_1 * S_m / (S_1 * len(time) + S_m) # see\n",
    "size = 4\n",
    "fig = plt.figure(figsize= (size+1,size))\n",
    "fig.patch.set_facecolor('white'); fig.patch.set_alpha(1.0)#; plt.tight_layout()\n",
    "plt.scatter(time,vrf*1e3, s=s)\n",
    "plt.xlim(0,8)\n",
    "plt.ylim(-0.006*1e3,0.003*1e3)\n",
    "#plt.yticks([-0.05*1e3, 0.015*1e3, -0.0005*1e3],fontsize=10)\n",
    "plt.xticks([0, 1, 2, 3, 4, 5, 6, 7, 8],fontsize=10)\n",
    "plt.xlabel(\"time (μs)\",fontname=\"Segoe UI\",fontsize=10)\n",
    "plt.ylabel(\"$<V_{\\mathrm{RF}}>$ (mV)\",fontname=\"Segoe UI\",fontsize=10)\n",
    "plt.show()\n",
    "\n",
    "\"\"\"\n",
    "\n",
    "#overall version\n",
    "cumulative_time = np.array([d['time'].values])\n",
    "\n",
    "for i in range(1,600):\n",
    "    cumulative_time = np.concatenate((cumulative_time, np.array(i*d['time'].values[-1] + d['time'].values)), axis=None)\n",
    "    #cumulative_time = np.array(cummulative_time)\n",
    "    #cumulative_time.flatten()\n",
    "    \n",
    "time, vrf = boxcar(cumulative_time, d['Vrf'].values.flatten(),n)\n",
    "\n",
    "\n",
    "S_1, S_m = 36, 3600\n",
    "s = S_1 * S_m / (S_1 * len(time) + S_m) # see\n",
    "size = 4\n",
    "fig = plt.figure(figsize= (size+1,size))\n",
    "fig.patch.set_facecolor('white'); fig.patch.set_alpha(1.0)#; plt.tight_layout()\n",
    "plt.scatter(time,vrf*1e3, s=s)\n",
    "plt.xlim(0,4800)\n",
    "plt.ylim(-0.004*1e3,0.002*1e3)\n",
    "plt.yticks([-0.0045*1e3, -0.0015464162726819232*1e3, 0.002*1e3],fontsize=10)\n",
    "plt.xticks([800, 1600, 2400, 3200, 4000, 4800],fontsize=10)\n",
    "plt.xlabel(\"time (μs)\",fontname=\"Segoe UI\",fontsize=10)\n",
    "plt.ylabel(\"$<V_{\\mathrm{RF}}>$ (mV)\",fontname=\"Segoe UI\",fontsize=10)\n",
    "plt.show()"
   ]
  },
  {
   "cell_type": "code",
   "execution_count": 50,
   "id": "5c85bdde",
   "metadata": {},
   "outputs": [],
   "source": [
    "import lmfit\n",
    "import xarray as xr\n",
    "\n",
    "def new_array(orig_xarr, replaced_dim=None, new_dim=None, new_coords=None, name=None, dtype=None, fill_zeros=False):\n",
    "    \"\"\"Create a new empty xarray.DataArray with the same data structure as orig_xarr.\n",
    "    If replaced_dim is given, the specified dimension is replaced with the new\n",
    "    dimension name new_dim and the corresponding coordinates array new_coords.\"\"\"\n",
    "    shape = list(orig_xarr.shape)\n",
    "    if replaced_dim is not None:\n",
    "        if not isinstance(replaced_dim, int):\n",
    "            # Extract dimension index to be replaced\n",
    "            for i, dim_name in enumerate(orig_xarr.dims):\n",
    "                if dim_name == replaced_dim:\n",
    "                    replaced_dim = i\n",
    "                    break\n",
    "        if new_dim is None:\n",
    "            del shape[replaced_dim]  # Just remove this dimension\n",
    "        else:\n",
    "            shape[replaced_dim] = len(new_coords)\n",
    "    if dtype is None:\n",
    "        dtype = orig_xarr.dtype\n",
    "    num_array = np.zeros(shape, dtype=dtype) if fill_zeros else np.empty(shape, dtype=dtype)\n",
    "\n",
    "    if isinstance(orig_xarr, xr.DataArray):\n",
    "        # Copy coordinate information\n",
    "        coords = []\n",
    "        for i, dim_name in enumerate(orig_xarr.dims):\n",
    "            if replaced_dim is not None and dim_name == orig_xarr.dims[replaced_dim]:\n",
    "                if new_dim is not None:\n",
    "                    coords.append((new_dim, new_coords))\n",
    "            else:\n",
    "                coords.append((dim_name, orig_xarr.coords[dim_name]))\n",
    "        return xr.DataArray(num_array, coords, name=name, attrs=orig_xarr.attrs)\n",
    "    else:\n",
    "        return num_array\n",
    "\n",
    "\n",
    "def find_thresholds(xarr, bins=None, xdrift=None, ydrift=None):\n",
    "    \"\"\"\n",
    "    Find threshold values from binary scattered data or histrogram in xarr.\n",
    "    Systematic drift of the threshold value is guessed automatically.\n",
    "\n",
    "    :param array-like xarr: scattered value data or histogram data in xr.DataArray or other array-like types\n",
    "    :param int,string bins: (required for histogram data) axis index or dimension name for bin values in histogram data\n",
    "    :param int,string xdrift: (optional) axis index or dimension name along which the threshold drift should be guessed\n",
    "    :param int,string ydrift: (optional) 2nd axis index or dimension name along which the threshold drift should be guessed\n",
    "    :rtype: xr.DataArray\n",
    "    :return: array of threshold values with the dimensions of ydrift and xdrift axes\n",
    "    \"\"\"\n",
    "    def residual(pars, x=None, y=None, bins=None, data=None):\n",
    "        # unpack parameters:\n",
    "        #  extract .value attribute for each parameter\n",
    "        parvals = pars.valuesdict()\n",
    "        \n",
    "        model = parvals['a0']\n",
    "        if x is not None:\n",
    "            model += parvals['a1'] * x + parvals['a2'] * x * x\n",
    "        if y is not None:\n",
    "            model += parvals['b1'] * y + parvals['b2'] * y * y\n",
    "        if data is None:\n",
    "            # Evaluate model values with the given parameters\n",
    "            try:\n",
    "                # Successful only when model is an instance of xarray\n",
    "                model.name = 'thresholds'\n",
    "            except:\n",
    "                pass\n",
    "            return model\n",
    "        \n",
    "        if bins is None:\n",
    "            distances = np.abs(data - model)\n",
    "        else:  # histogram data\n",
    "            distances = np.abs(bins - model) * data\n",
    "        m = np.mean(distances)\n",
    "        return np.ravel(distances - m)\n",
    "\n",
    "    xarr = xr.DataArray(xarr)\n",
    "    kws = {'data':xarr}\n",
    "    params = lmfit.Parameters()\n",
    "    if bins is None:\n",
    "        params.add('a0', np.median(xarr))\n",
    "    else:\n",
    "        bins = bins if bins in xarr.coords else xarr.dims[bins]\n",
    "        kws['bins'] = xarr.coords[bins]\n",
    "        params.add('a0', np.mean(xarr.coords[bins] * xarr))\n",
    "    if xdrift is not None:\n",
    "        params.add('a1', 0.)\n",
    "        params.add('a2', 0.)\n",
    "        xdrift = xdrift if xdrift in xarr.coords else xarr.dims[xdrift]\n",
    "        kws['x'] = xarr.coords[xdrift]\n",
    "    if ydrift is not None:\n",
    "        params.add('b1', 0.)\n",
    "        params.add('b2', 0.)\n",
    "        ydrift = ydrift if ydrift in xarr.coords else xarr.dims[ydrift]\n",
    "        kws['y'] = xarr.coords[ydrift]\n",
    "\n",
    "    result = lmfit.minimize(residual, params, kws=kws)\n",
    "    kws.pop('data')\n",
    "    return residual(result.params, **kws)"
   ]
  },
  {
   "cell_type": "code",
   "execution_count": 51,
   "id": "6b31d44a",
   "metadata": {},
   "outputs": [],
   "source": [
    "threshold = find_thresholds(d['Vrf'])"
   ]
  },
  {
   "cell_type": "code",
   "execution_count": 52,
   "id": "d9a2fb68",
   "metadata": {},
   "outputs": [
    {
     "name": "stdout",
     "output_type": "stream",
     "text": [
      "-0.0015464162726819232\n"
     ]
    }
   ],
   "source": [
    "print(threshold)"
   ]
  },
  {
   "cell_type": "code",
   "execution_count": 53,
   "id": "c8555975",
   "metadata": {},
   "outputs": [
    {
     "name": "stdout",
     "output_type": "stream",
     "text": [
      "(600, 1000)\n"
     ]
    }
   ],
   "source": [
    "print(d['Vrf'].shape)"
   ]
  },
  {
   "cell_type": "code",
   "execution_count": null,
   "id": "b10cc48a",
   "metadata": {},
   "outputs": [],
   "source": []
  }
 ],
 "metadata": {
  "kernelspec": {
   "display_name": "Python 3 (ipykernel)",
   "language": "python",
   "name": "python3"
  },
  "language_info": {
   "codemirror_mode": {
    "name": "ipython",
    "version": 3
   },
   "file_extension": ".py",
   "mimetype": "text/x-python",
   "name": "python",
   "nbconvert_exporter": "python",
   "pygments_lexer": "ipython3",
   "version": "3.9.18"
  }
 },
 "nbformat": 4,
 "nbformat_minor": 5
}
