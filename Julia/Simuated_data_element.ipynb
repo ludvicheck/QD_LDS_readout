{
 "cells": [
  {
   "cell_type": "code",
   "execution_count": 1,
   "id": "5a75cb2a",
   "metadata": {},
   "outputs": [],
   "source": [
    "using Pkg\n",
    "using LinearAlgebra"
   ]
  },
  {
   "cell_type": "code",
   "execution_count": 2,
   "id": "39b8923e",
   "metadata": {},
   "outputs": [],
   "source": [
    "using TSSOS\n",
    "using DynamicPolynomials\n",
    "using Random\n",
    "using Statistics\n",
    "using DataFrames\n",
    "using DelimitedFiles"
   ]
  },
  {
   "cell_type": "code",
   "execution_count": 3,
   "id": "8a01a9ad",
   "metadata": {},
   "outputs": [
    {
     "data": {
      "text/plain": [
       "observation (generic function with 1 method)"
      ]
     },
     "execution_count": 3,
     "metadata": {},
     "output_type": "execute_result"
    }
   ],
   "source": [
    "function observation(T,ts,start)\n",
    "    # randomly select a trajectory of time series\n",
    "    return copy(ts[start:start+T-1])\n",
    "end"
   ]
  },
  {
   "cell_type": "code",
   "execution_count": 7,
   "id": "d9c28f98",
   "metadata": {},
   "outputs": [
    {
     "name": "stdout",
     "output_type": "stream",
     "text": [
      "[1, 2]\n"
     ]
    }
   ],
   "source": [
    "A = [[1, 2], [3,4]]\n",
    "println(A[1])"
   ]
  },
  {
   "cell_type": "code",
   "execution_count": 30,
   "id": "50cbed05",
   "metadata": {},
   "outputs": [
    {
     "data": {
      "text/plain": [
       "parameter_estimation2 (generic function with 1 method)"
      ]
     },
     "execution_count": 30,
     "metadata": {},
     "output_type": "execute_result"
    }
   ],
   "source": [
    "function parameter_estimation2(Y)\n",
    "    # training process\n",
    "    \n",
    "    T=length(Y)\n",
    "    measurements = length()\n",
    "    \n",
    "    @polyvar G[1:4] Fdash[1:2] p[1:T] q[1:2*T] f[1:T] m[1:2*(T+1)];\n",
    "    var=vcat(G,Fdash,m,f,p,q);\n",
    "\n",
    "    # constraints\n",
    "    ine1 = [f[i] - Fdash[1]*m[2*i+1] - Fdash[2]*m[2*i+2] - p[i] for i in 1:T];\n",
    "    ine2 = [-f[i] + Fdash[1]*m[2*i+1] + Fdash[2]*m[2*i+2] + p[i] for i in 1:T];\n",
    "    ine3 = [m[i+2] - G[1]*m[i] - G[2]*m[i+1] - q[i]  for i in 1:2:2*T];\n",
    "    ine4 = [-m[i+2] + G[1]*m[i] + G[2]*m[i+1] + q[i]  for i in 1:2:2*T];\n",
    "    ine5 = [m[i+2] - G[3]*m[i-1] - G[4]*m[i] - q[i]  for i in 2:2:2*T];\n",
    "    ine6 = [-m[i+2] + G[3]*m[i-1] + G[4]*m[i] + q[i]  for i in 2:2:2*T];\n",
    "\n",
    "    #objective\n",
    "    obj=sum(sum((Y[j][i]-f[i])^2 for i in 1:T) for j + 0.005*sum(p[i]^2 for i in 1:T) +0.001*sum(q[i]^2 for i in 1:T-1)\n",
    "\n",
    "    # pop\n",
    "    pop=vcat(obj,ine1,ine2,ine3,ine4,ine5,ine6);\n",
    "\n",
    "    # solve model \n",
    "    opt,sol,data=tssos_first(pop,var,4,TS=\"MD\",solution=true);\n",
    "    \n",
    "    println(\"sol: \", sol)\n",
    "    println(\"opt: \", opt)\n",
    "    #println(\"data: \", data)\n",
    "    return opt, sol, data \n",
    "end"
   ]
  },
  {
   "cell_type": "code",
   "execution_count": 14,
   "id": "926996e9",
   "metadata": {},
   "outputs": [
    {
     "data": {
      "text/plain": [
       "rmse (generic function with 1 method)"
      ]
     },
     "execution_count": 14,
     "metadata": {},
     "output_type": "execute_result"
    }
   ],
   "source": [
    "function rmse(Y_predict, Y_true)\n",
    "    # compare predicted Y_[T+1：T+pred] with actual value of predicted Y_[T+1：T+pred]\n",
    "    # calcluate rmse: sqrt( sum((Y-f)^2)/N) \n",
    "    Y=copy(Y_true[1:length(Y_predict)])\n",
    "    return  abs(Y[1]-Y_predict[1])\n",
    "    #1-sum( abs(Y[i]-Y_predict[i]) for i in 1:length(Y_predict) )/ sum(abs(Y[i]-mean(Y)) for i in 1:length(Y_predict) )\n",
    "end\n",
    "    "
   ]
  },
  {
   "cell_type": "code",
   "execution_count": 15,
   "id": "72e2d546",
   "metadata": {},
   "outputs": [],
   "source": [
    "#read Hazan data\n",
    "ts = readdlm( \"Hazan_25_ts.txt\" );"
   ]
  },
  {
   "cell_type": "code",
   "execution_count": null,
   "id": "65a4266f",
   "metadata": {},
   "outputs": [
    {
     "name": "stdout",
     "output_type": "stream",
     "text": [
      "*********************************** TSSOS ***********************************\n",
      "Version 1.0.0, developed by Jie Wang, 2020--2022\n",
      "TSSOS is launching...\n",
      "Starting to compute the block structure...\n",
      "-----------------------------------------------------------------------------\n",
      "The sizes of PSD blocks:\n",
      "[231, 21, 3, 2, 1]\n",
      "[1, 210, 8, 20, 5985]\n",
      "-----------------------------------------------------------------------------\n",
      "Obtained the block structure in 208.128659769 seconds. The maximal size of blocks is 231.\n",
      "Assembling the SDP...\n",
      "There are 64672 affine constraints.\n",
      "SDP assembling time: 11.990261177 seconds.\n",
      "Solving the SDP...\n",
      "Problem\n",
      "  Name                   :                 \n",
      "  Objective sense        : maximize        \n",
      "  Type                   : CONIC (conic optimization problem)\n",
      "  Constraints            : 64672           \n",
      "  Affine conic cons.     : 0               \n",
      "  Disjunctive cons.      : 0               \n",
      "  Cones                  : 0               \n",
      "  Scalar variables       : 10354           \n",
      "  Matrix variables       : 17231           \n",
      "  Integer variables      : 0               \n",
      "\n",
      "Optimizer started.\n",
      "Presolve started.\n"
     ]
    }
   ],
   "source": [
    "## a single run (because the first time using TSSOS is very slow)\n",
    "T=2 # the length of time window is 20\n",
    "pred=1 # we are making one-step ahead prediction\n",
    "Y=observation(T+pred,ts,1) # select a 21-period time series from stock-market data. \n",
    "opt, sol, data = parameter_estimation2(Y[1:T]) # system identification using the first 20-period"
   ]
  },
  {
   "cell_type": "code",
   "execution_count": 21,
   "id": "f8825090",
   "metadata": {},
   "outputs": [
    {
     "name": "stdout",
     "output_type": "stream",
     "text": [
      "1.2241642802709534\n",
      "1.2241642804121389\n"
     ]
    }
   ],
   "source": [
    "#for T=10 only\n",
    "f5 = sol[5]*sol[17] + sol[6]*sol[18] + sol[43]\n",
    "f5real = sol[33]\n",
    "println(f5)\n",
    "println(f5real)"
   ]
  },
  {
   "cell_type": "code",
   "execution_count": null,
   "id": "e53fd3f9",
   "metadata": {},
   "outputs": [],
   "source": []
  }
 ],
 "metadata": {
  "kernelspec": {
   "display_name": "Julia 1.9.1",
   "language": "julia",
   "name": "julia-1.9"
  },
  "language_info": {
   "file_extension": ".jl",
   "mimetype": "application/julia",
   "name": "julia",
   "version": "1.9.1"
  }
 },
 "nbformat": 4,
 "nbformat_minor": 5
}
